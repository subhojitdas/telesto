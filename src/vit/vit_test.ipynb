{
 "cells": [
  {
   "cell_type": "code",
   "id": "initial_id",
   "metadata": {
    "collapsed": true,
    "ExecuteTime": {
     "end_time": "2025-10-01T19:44:25.061141Z",
     "start_time": "2025-10-01T19:44:25.058068Z"
    }
   },
   "source": [
    "import torch\n",
    "\n",
    "batch_size = 3\n",
    "seq_len = 5\n",
    "\n",
    "padding_mask = torch.zeros(batch_size, seq_len, dtype=torch.bool)"
   ],
   "outputs": [],
   "execution_count": 2
  },
  {
   "metadata": {
    "ExecuteTime": {
     "end_time": "2025-10-01T19:44:40.832644Z",
     "start_time": "2025-10-01T19:44:40.830610Z"
    }
   },
   "cell_type": "code",
   "source": "print(padding_mask)",
   "id": "570891f0edce00e6",
   "outputs": [
    {
     "name": "stdout",
     "output_type": "stream",
     "text": [
      "tensor([[False, False, False, False, False],\n",
      "        [False, False, False, False, False],\n",
      "        [False, False, False, False, False]])\n"
     ]
    }
   ],
   "execution_count": 4
  },
  {
   "metadata": {
    "ExecuteTime": {
     "end_time": "2025-10-01T19:45:59.740485Z",
     "start_time": "2025-10-01T19:45:59.738939Z"
    }
   },
   "cell_type": "code",
   "source": [
    "lengths = [3, 5, 2]\n",
    "\n",
    "for i, l in enumerate(lengths):\n",
    "    print(i, l)"
   ],
   "id": "86b2444127f6fed0",
   "outputs": [
    {
     "name": "stdout",
     "output_type": "stream",
     "text": [
      "0 3\n",
      "1 5\n",
      "2 2\n"
     ]
    }
   ],
   "execution_count": 5
  },
  {
   "metadata": {
    "ExecuteTime": {
     "end_time": "2025-10-01T19:46:46.529959Z",
     "start_time": "2025-10-01T19:46:46.524525Z"
    }
   },
   "cell_type": "code",
   "source": [
    "for i, l in enumerate(lengths):\n",
    "    padding_mask[i, l:] = True\n",
    "\n",
    "padding_mask"
   ],
   "id": "3e92e2dc469033a5",
   "outputs": [
    {
     "data": {
      "text/plain": [
       "tensor([[False, False, False,  True,  True],\n",
       "        [False, False, False, False, False],\n",
       "        [False, False,  True,  True,  True]])"
      ]
     },
     "execution_count": 6,
     "metadata": {},
     "output_type": "execute_result"
    }
   ],
   "execution_count": 6
  },
  {
   "metadata": {
    "ExecuteTime": {
     "end_time": "2025-10-01T19:46:50.432984Z",
     "start_time": "2025-10-01T19:46:50.430611Z"
    }
   },
   "cell_type": "code",
   "source": "print(padding_mask)",
   "id": "b0e7ab466bb7cac",
   "outputs": [
    {
     "name": "stdout",
     "output_type": "stream",
     "text": [
      "tensor([[False, False, False,  True,  True],\n",
      "        [False, False, False, False, False],\n",
      "        [False, False,  True,  True,  True]])\n"
     ]
    }
   ],
   "execution_count": 7
  },
  {
   "metadata": {
    "ExecuteTime": {
     "end_time": "2025-10-03T07:15:36.257846Z",
     "start_time": "2025-10-03T07:15:36.251175Z"
    }
   },
   "cell_type": "code",
   "source": [
    "x = torch.randn(2, 3, 224, 224)\n",
    "x.shape"
   ],
   "id": "bb17f15b46dc4e67",
   "outputs": [
    {
     "data": {
      "text/plain": [
       "torch.Size([2, 3, 224, 224])"
      ]
     },
     "execution_count": 20,
     "metadata": {},
     "output_type": "execute_result"
    }
   ],
   "execution_count": 20
  },
  {
   "metadata": {
    "ExecuteTime": {
     "end_time": "2025-10-03T07:11:27.145632Z",
     "start_time": "2025-10-03T07:11:27.142426Z"
    }
   },
   "cell_type": "code",
   "source": "x.unfold(2, 16, 16).shape",
   "id": "1d79025856db1de",
   "outputs": [
    {
     "data": {
      "text/plain": [
       "torch.Size([2, 3, 14, 224, 16])"
      ]
     },
     "execution_count": 12,
     "metadata": {},
     "output_type": "execute_result"
    }
   ],
   "execution_count": 12
  },
  {
   "metadata": {
    "ExecuteTime": {
     "end_time": "2025-10-03T07:15:39.176996Z",
     "start_time": "2025-10-03T07:15:39.174740Z"
    }
   },
   "cell_type": "code",
   "source": "x = x.unfold(2, 16, 16).unfold(3, 16, 16)",
   "id": "48658413f7b264d2",
   "outputs": [],
   "execution_count": 21
  },
  {
   "metadata": {
    "ExecuteTime": {
     "end_time": "2025-10-03T07:16:02.067245Z",
     "start_time": "2025-10-03T07:16:02.064660Z"
    }
   },
   "cell_type": "code",
   "source": [
    "x = x.permute(0, 2, 3, 1, 4, 5).contiguous()\n",
    "x.shape"
   ],
   "id": "78ed6901a046c513",
   "outputs": [
    {
     "data": {
      "text/plain": [
       "torch.Size([2, 14, 14, 3, 16, 16])"
      ]
     },
     "execution_count": 23,
     "metadata": {},
     "output_type": "execute_result"
    }
   ],
   "execution_count": 23
  },
  {
   "metadata": {
    "ExecuteTime": {
     "end_time": "2025-10-03T07:16:49.562790Z",
     "start_time": "2025-10-03T07:16:49.560420Z"
    }
   },
   "cell_type": "code",
   "source": "x = x.view(2, -1, 3 * 16 * 16)",
   "id": "b66833f0cfb62c4",
   "outputs": [],
   "execution_count": 24
  },
  {
   "metadata": {
    "ExecuteTime": {
     "end_time": "2025-10-03T07:16:54.109733Z",
     "start_time": "2025-10-03T07:16:54.107274Z"
    }
   },
   "cell_type": "code",
   "source": "x.shape",
   "id": "8568ac4a0de3170c",
   "outputs": [
    {
     "data": {
      "text/plain": [
       "torch.Size([2, 196, 768])"
      ]
     },
     "execution_count": 25,
     "metadata": {},
     "output_type": "execute_result"
    }
   ],
   "execution_count": 25
  },
  {
   "metadata": {
    "ExecuteTime": {
     "end_time": "2025-10-03T07:18:03.480440Z",
     "start_time": "2025-10-03T07:18:03.476406Z"
    }
   },
   "cell_type": "code",
   "source": [
    "y = torch.randn(2, 3, 2)\n",
    "y"
   ],
   "id": "cc92e89ff146cc72",
   "outputs": [
    {
     "data": {
      "text/plain": [
       "tensor([[[-1.0377,  0.8205],\n",
       "         [ 1.2192, -1.0159],\n",
       "         [-0.5402, -0.9473]],\n",
       "\n",
       "        [[ 0.7992, -0.9455],\n",
       "         [-1.0389,  1.0906],\n",
       "         [-0.3926, -0.2801]]])"
      ]
     },
     "execution_count": 27,
     "metadata": {},
     "output_type": "execute_result"
    }
   ],
   "execution_count": 27
  },
  {
   "metadata": {
    "ExecuteTime": {
     "end_time": "2025-10-03T07:20:22.096057Z",
     "start_time": "2025-10-03T07:20:22.091467Z"
    }
   },
   "cell_type": "code",
   "source": [
    "z = y.unfold(0, 1, 1)\n",
    "z.shape , z"
   ],
   "id": "855602fb87f026e3",
   "outputs": [
    {
     "data": {
      "text/plain": [
       "(torch.Size([2, 3, 2, 1]),\n",
       " tensor([[[[-1.0377],\n",
       "           [ 0.8205]],\n",
       " \n",
       "          [[ 1.2192],\n",
       "           [-1.0159]],\n",
       " \n",
       "          [[-0.5402],\n",
       "           [-0.9473]]],\n",
       " \n",
       " \n",
       "         [[[ 0.7992],\n",
       "           [-0.9455]],\n",
       " \n",
       "          [[-1.0389],\n",
       "           [ 1.0906]],\n",
       " \n",
       "          [[-0.3926],\n",
       "           [-0.2801]]]]))"
      ]
     },
     "execution_count": 33,
     "metadata": {},
     "output_type": "execute_result"
    }
   ],
   "execution_count": 33
  },
  {
   "metadata": {},
   "cell_type": "code",
   "outputs": [],
   "execution_count": null,
   "source": "",
   "id": "18f16b3fb7a80f34"
  }
 ],
 "metadata": {
  "kernelspec": {
   "display_name": "Python 3",
   "language": "python",
   "name": "python3"
  },
  "language_info": {
   "codemirror_mode": {
    "name": "ipython",
    "version": 2
   },
   "file_extension": ".py",
   "mimetype": "text/x-python",
   "name": "python",
   "nbconvert_exporter": "python",
   "pygments_lexer": "ipython2",
   "version": "2.7.6"
  }
 },
 "nbformat": 4,
 "nbformat_minor": 5
}
