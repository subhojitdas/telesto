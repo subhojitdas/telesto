{
 "cells": [
  {
   "cell_type": "code",
   "id": "initial_id",
   "metadata": {
    "collapsed": true,
    "ExecuteTime": {
     "end_time": "2025-10-01T19:44:25.061141Z",
     "start_time": "2025-10-01T19:44:25.058068Z"
    }
   },
   "source": [
    "import torch\n",
    "\n",
    "batch_size = 3\n",
    "seq_len = 5\n",
    "\n",
    "padding_mask = torch.zeros(batch_size, seq_len, dtype=torch.bool)"
   ],
   "outputs": [],
   "execution_count": 2
  },
  {
   "metadata": {
    "ExecuteTime": {
     "end_time": "2025-10-01T19:44:40.832644Z",
     "start_time": "2025-10-01T19:44:40.830610Z"
    }
   },
   "cell_type": "code",
   "source": "print(padding_mask)",
   "id": "570891f0edce00e6",
   "outputs": [
    {
     "name": "stdout",
     "output_type": "stream",
     "text": [
      "tensor([[False, False, False, False, False],\n",
      "        [False, False, False, False, False],\n",
      "        [False, False, False, False, False]])\n"
     ]
    }
   ],
   "execution_count": 4
  },
  {
   "metadata": {
    "ExecuteTime": {
     "end_time": "2025-10-01T19:45:59.740485Z",
     "start_time": "2025-10-01T19:45:59.738939Z"
    }
   },
   "cell_type": "code",
   "source": [
    "lengths = [3, 5, 2]\n",
    "\n",
    "for i, l in enumerate(lengths):\n",
    "    print(i, l)"
   ],
   "id": "86b2444127f6fed0",
   "outputs": [
    {
     "name": "stdout",
     "output_type": "stream",
     "text": [
      "0 3\n",
      "1 5\n",
      "2 2\n"
     ]
    }
   ],
   "execution_count": 5
  },
  {
   "metadata": {
    "ExecuteTime": {
     "end_time": "2025-10-01T19:46:46.529959Z",
     "start_time": "2025-10-01T19:46:46.524525Z"
    }
   },
   "cell_type": "code",
   "source": [
    "for i, l in enumerate(lengths):\n",
    "    padding_mask[i, l:] = True\n",
    "\n",
    "padding_mask"
   ],
   "id": "3e92e2dc469033a5",
   "outputs": [
    {
     "data": {
      "text/plain": [
       "tensor([[False, False, False,  True,  True],\n",
       "        [False, False, False, False, False],\n",
       "        [False, False,  True,  True,  True]])"
      ]
     },
     "execution_count": 6,
     "metadata": {},
     "output_type": "execute_result"
    }
   ],
   "execution_count": 6
  },
  {
   "metadata": {
    "ExecuteTime": {
     "end_time": "2025-10-01T19:46:50.432984Z",
     "start_time": "2025-10-01T19:46:50.430611Z"
    }
   },
   "cell_type": "code",
   "source": "print(padding_mask)",
   "id": "b0e7ab466bb7cac",
   "outputs": [
    {
     "name": "stdout",
     "output_type": "stream",
     "text": [
      "tensor([[False, False, False,  True,  True],\n",
      "        [False, False, False, False, False],\n",
      "        [False, False,  True,  True,  True]])\n"
     ]
    }
   ],
   "execution_count": 7
  },
  {
   "metadata": {},
   "cell_type": "code",
   "outputs": [],
   "execution_count": null,
   "source": "",
   "id": "bb17f15b46dc4e67"
  }
 ],
 "metadata": {
  "kernelspec": {
   "display_name": "Python 3",
   "language": "python",
   "name": "python3"
  },
  "language_info": {
   "codemirror_mode": {
    "name": "ipython",
    "version": 2
   },
   "file_extension": ".py",
   "mimetype": "text/x-python",
   "name": "python",
   "nbconvert_exporter": "python",
   "pygments_lexer": "ipython2",
   "version": "2.7.6"
  }
 },
 "nbformat": 4,
 "nbformat_minor": 5
}
