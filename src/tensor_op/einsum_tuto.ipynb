{
 "cells": [
  {
   "cell_type": "code",
   "id": "initial_id",
   "metadata": {
    "collapsed": true,
    "ExecuteTime": {
     "end_time": "2025-10-11T18:33:50.233314Z",
     "start_time": "2025-10-11T18:33:49.370973Z"
    }
   },
   "source": "import torch",
   "outputs": [],
   "execution_count": 1
  },
  {
   "metadata": {
    "ExecuteTime": {
     "end_time": "2025-10-11T18:34:03.663475Z",
     "start_time": "2025-10-11T18:34:03.657142Z"
    }
   },
   "cell_type": "code",
   "source": "x = torch.rand((2,3))",
   "id": "38849e9416501ce1",
   "outputs": [],
   "execution_count": 2
  },
  {
   "metadata": {
    "ExecuteTime": {
     "end_time": "2025-10-11T18:34:05.948990Z",
     "start_time": "2025-10-11T18:34:05.943488Z"
    }
   },
   "cell_type": "code",
   "source": "x",
   "id": "252efeb23a44fde4",
   "outputs": [
    {
     "data": {
      "text/plain": [
       "tensor([[0.3109, 0.4111, 0.5022],\n",
       "        [0.0474, 0.1615, 0.8611]])"
      ]
     },
     "execution_count": 3,
     "metadata": {},
     "output_type": "execute_result"
    }
   ],
   "execution_count": 3
  },
  {
   "metadata": {
    "ExecuteTime": {
     "end_time": "2025-10-11T18:35:27.120002Z",
     "start_time": "2025-10-11T18:35:27.117833Z"
    }
   },
   "cell_type": "code",
   "source": [
    "# Permutation\n",
    "a = torch.einsum(\"ij->ji\", x)"
   ],
   "id": "92f605a0d517d4e7",
   "outputs": [],
   "execution_count": 7
  },
  {
   "metadata": {},
   "cell_type": "code",
   "source": "a",
   "id": "e7e19e5153eb173e",
   "outputs": [],
   "execution_count": null
  },
  {
   "metadata": {
    "ExecuteTime": {
     "end_time": "2025-10-11T18:36:46.114167Z",
     "start_time": "2025-10-11T18:36:46.111207Z"
    }
   },
   "cell_type": "code",
   "source": [
    "# Summation\n",
    "s = torch.einsum(\"ij->\", x)"
   ],
   "id": "61cf6ba54b1f14eb",
   "outputs": [],
   "execution_count": 9
  },
  {
   "metadata": {
    "ExecuteTime": {
     "end_time": "2025-10-11T18:36:47.981237Z",
     "start_time": "2025-10-11T18:36:47.978231Z"
    }
   },
   "cell_type": "code",
   "source": "s",
   "id": "6385343c4b5bcbc",
   "outputs": [
    {
     "data": {
      "text/plain": [
       "tensor(2.2943)"
      ]
     },
     "execution_count": 10,
     "metadata": {},
     "output_type": "execute_result"
    }
   ],
   "execution_count": 10
  },
  {
   "metadata": {
    "ExecuteTime": {
     "end_time": "2025-10-11T18:37:29.948044Z",
     "start_time": "2025-10-11T18:37:29.944463Z"
    }
   },
   "cell_type": "code",
   "source": [
    "# Column sum\n",
    "c = torch.einsum(\"ij->j\", x)\n",
    "c"
   ],
   "id": "ea71a2751ad4b77c",
   "outputs": [
    {
     "data": {
      "text/plain": [
       "tensor([0.3584, 0.5726, 1.3633])"
      ]
     },
     "execution_count": 11,
     "metadata": {},
     "output_type": "execute_result"
    }
   ],
   "execution_count": 11
  },
  {
   "metadata": {
    "ExecuteTime": {
     "end_time": "2025-10-11T18:38:05.960012Z",
     "start_time": "2025-10-11T18:38:05.956766Z"
    }
   },
   "cell_type": "code",
   "source": [
    "# Column sum\n",
    "r = torch.einsum(\"ij->i\", x)\n",
    "r"
   ],
   "id": "a7808f7b5bfd6fc5",
   "outputs": [
    {
     "data": {
      "text/plain": [
       "tensor([1.2242, 1.0701])"
      ]
     },
     "execution_count": 12,
     "metadata": {},
     "output_type": "execute_result"
    }
   ],
   "execution_count": 12
  },
  {
   "metadata": {
    "ExecuteTime": {
     "end_time": "2025-10-11T18:42:09.073940Z",
     "start_time": "2025-10-11T18:42:09.068434Z"
    }
   },
   "cell_type": "code",
   "source": [
    "# Matrix Vector multiplication\n",
    "v = torch.rand((3,1))\n",
    "mv = torch.einsum(\"ij,kj->ik\", x, v)\n",
    "mv"
   ],
   "id": "3d1ade5e5be37121",
   "outputs": [
    {
     "data": {
      "text/plain": [
       "tensor([[0.1391, 0.7183, 0.5093],\n",
       "        [0.1216, 0.6278, 0.4452]])"
      ]
     },
     "execution_count": 15,
     "metadata": {},
     "output_type": "execute_result"
    }
   ],
   "execution_count": 15
  },
  {
   "metadata": {
    "ExecuteTime": {
     "end_time": "2025-10-11T18:43:07.797958Z",
     "start_time": "2025-10-11T18:43:07.791904Z"
    }
   },
   "cell_type": "code",
   "source": [
    "# Matrix matrix multiplication\n",
    "m1 = torch.rand((3,2))\n",
    "mm = torch.einsum(\"ij,jk->ik\", x, m1)\n",
    "mm"
   ],
   "id": "36bdb7d5eed20212",
   "outputs": [
    {
     "data": {
      "text/plain": [
       "tensor([[0.1092, 0.6791],\n",
       "        [0.0908, 0.7158]])"
      ]
     },
     "execution_count": 16,
     "metadata": {},
     "output_type": "execute_result"
    }
   ],
   "execution_count": 16
  },
  {
   "metadata": {
    "ExecuteTime": {
     "end_time": "2025-10-11T18:49:19.661420Z",
     "start_time": "2025-10-11T18:49:19.655858Z"
    }
   },
   "cell_type": "code",
   "source": [
    "d = torch.rand((3,3))\n",
    "print(d)\n",
    "dd = torch.einsum(\"ii->i\", d)\n",
    "dd"
   ],
   "id": "967286447c57716a",
   "outputs": [
    {
     "name": "stdout",
     "output_type": "stream",
     "text": [
      "tensor([[0.2535, 0.9362, 0.9477],\n",
      "        [0.6600, 0.0471, 0.7584],\n",
      "        [0.4145, 0.1339, 0.5169]])\n"
     ]
    },
    {
     "data": {
      "text/plain": [
       "tensor([0.2535, 0.0471, 0.5169])"
      ]
     },
     "execution_count": 18,
     "metadata": {},
     "output_type": "execute_result"
    }
   ],
   "execution_count": 18
  },
  {
   "metadata": {},
   "cell_type": "code",
   "outputs": [],
   "execution_count": null,
   "source": "",
   "id": "c76ede417038ea7e"
  }
 ],
 "metadata": {
  "kernelspec": {
   "display_name": "Python 3",
   "language": "python",
   "name": "python3"
  },
  "language_info": {
   "codemirror_mode": {
    "name": "ipython",
    "version": 2
   },
   "file_extension": ".py",
   "mimetype": "text/x-python",
   "name": "python",
   "nbconvert_exporter": "python",
   "pygments_lexer": "ipython2",
   "version": "2.7.6"
  }
 },
 "nbformat": 4,
 "nbformat_minor": 5
}
